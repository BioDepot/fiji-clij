{
 "cells": [
  {
   "cell_type": "code",
   "execution_count": null,
   "metadata": {
    "collapsed": false
   },
   "outputs": [],
   "source": [
    "# configuration and imports\n",
    "data_folder = \"/data/benchmark/log/\"\n",
    "output_folder = \"/data/benchmark/out/\"\n",
    "\n",
    "workflow = \"workflowB\"\n",
    "computerName = \"bwb\"\n",
    "\n",
    "import utils\n",
    "import matplotlib\n",
    "import matplotlib.pyplot as plt\n",
    "from scipy import stats\n",
    "import numpy as np\n",
    "\n",
    "font = {'family' : 'normal',\n",
    "        'size'   : 22}\n",
    "\n",
    "matplotlib.rc('font', **font)"
   ]
  },
  {
   "cell_type": "code",
   "execution_count": null,
   "metadata": {
    "collapsed": false
   },
   "outputs": [],
   "source": [
    "# load data\n",
    "\n",
    "# the dataset contains 150 measurements of cell count in Drosophila melanogaster imaging data\n",
    "# Furthermore, measurements exist for Laptop versus Workstation and ImageJ versus CLIJ\n",
    "\n",
    "cell_count_clij = utils.read_all_measurements_from_file(data_folder + computerName + \"_\" + workflow + \"_cellcount_clij.csv\")\n",
    "cell_count_imagej = utils.read_all_measurements_from_file(data_folder + computerName + \"_\" + workflow + \"_cellcount_imagej.csv\")"
   ]
  },
  {
   "cell_type": "code",
   "execution_count": null,
   "metadata": {
    "collapsed": false
   },
   "outputs": [],
   "source": [
    "# plot number of spots over time for each sample\n",
    "timepoints = range(0, len(cell_count_imagej))\n",
    "plt.figure(figsize=(10, 10), dpi=80)\n",
    "plt.plot(timepoints, cell_count_imagej, '.')\n",
    "plt.plot(timepoints, cell_count_clij, '.')\n",
    "\n",
    "plt.legend([\"ImageJ\", \"CLIJ\"])\n",
    "plt.xlabel(\"Time point\")\n",
    "plt.ylabel(\"Spot count\")\n",
    "plt.title(\"Spot count over time\")\n",
    "plt.savefig(output_folder + \"spot_count_plot.png\")\n",
    "plt.show()"
   ]
  },
  {
   "cell_type": "code",
   "execution_count": null,
   "metadata": {
    "collapsed": false
   },
   "outputs": [],
   "source": [
    "# some more definitions \n",
    "def compare(data1, data2, data1_name, data2_name):\n",
    "    comparison_name = data1_name + \"_versus_\" + data2_name\n",
    "\n",
    "    # Bland Altman analysis\n",
    "    # https://www-users.york.ac.uk/~mb55/meas/ba.pdf\n",
    "\n",
    "    utils.bland_altman_plot(data1, data2)\n",
    "\n",
    "    plt.title('Bland-Altman Plot of spot count')\n",
    "    plt.xlabel(\"Average spot count\")\n",
    "    plt.ylabel(\"Spot count \" + data1_name + \" - spot count \" + data2_name)\n",
    "\n",
    "    plt.savefig(output_folder + \"spot_count_\" + comparison_name + \"_bland_altman_plot.png\")\n",
    "    plt.show()\n",
    "\n",
    "    # coefficient of repeatability (Bland Altman 1973)\n",
    "    squared_differences = np.power(np.subtract(data1, data2), 2)\n",
    "\n",
    "\n",
    "    CR = np.sqrt(np.sum(squared_differences) / len(squared_differences))\n",
    "\n",
    "    print(\"Bland Altmans coefficient of repeatability: \" + str(CR))\n",
    "\n",
    "    ############################################################################3\n",
    "    # Pearson correlation analysis\n",
    "\n",
    "    plt.figure(figsize=(10, 10), dpi=80)\n",
    "    plt.plot(data1, data2, 'o')\n",
    "    plt.xlabel(\"Spot count \" + data1_name)\n",
    "    plt.ylabel(\"Spot count \" + data2_name)\n",
    "    plt.title(\"Spot count scatter plot\")\n",
    "    plt.savefig(output_folder + \"spot_count_\" + comparison_name + \"_scatter_plot.png\")\n",
    "    plt.show()\n",
    "\n",
    "    # Pearsons correlation coefficient\n",
    "\n",
    "    pcc = stats.pearsonr(data1, data2)\n",
    "\n",
    "    print(\"Pearsons correlation coeficient: \" + str(pcc[0]))\n",
    "\n",
    "    #########################################################################\n",
    "    # equivalence testing\n",
    "    # check that relative difference is smaller than a given bound\n",
    "    max_difference_bounds = 0.01\n",
    "\n",
    "    differences = np.subtract(data1, data2)\n",
    "    averages = np.divide(np.add(data1, data2), 2)\n",
    "\n",
    "    relative_difference = np.abs(np.divide(differences, averages))\n",
    "    print(\"Mean relative difference \" + str(np.mean(relative_difference)))\n",
    "    print(\"StdDev relative difference \" + str(np.std(relative_difference)))\n",
    "\n",
    "    t1, pv = stats.ttest_1samp(relative_difference, max_difference_bounds)\n",
    "\n",
    "    print(\"Null-hypothesis: relative difference (\" + comparison_name + \") is larger than \" + str(max_difference_bounds * 100) + \"%\")\n",
    "    print(\"alternative: relative difference (\" + comparison_name + \") is smaller than \"  + str(max_difference_bounds * 100) + \"%\")\n",
    "    print(\"p value: \" + str(pv))"
   ]
  },
  {
   "cell_type": "code",
   "execution_count": null,
   "metadata": {
    "collapsed": false,
    "scrolled": true
   },
   "outputs": [],
   "source": [
    "print(\"\\nImageJ versus CLIJ\")\n",
    "print(\"------------------\")\n",
    "compare(cell_count_imagej, cell_count_clij, \"ImageJ\", \"CLIJ\")"
   ]
  },
  {
   "cell_type": "code",
   "execution_count": null,
   "metadata": {
    "collapsed": false,
    "scrolled": true
   },
   "outputs": [],
   "source": [
    "#   # generate changing plots over time\n",
    "#   intended_figure_width = 1250\n",
    "#   intended_figure_height = 350\n",
    "#   intended_dpi = 60\n",
    "\n",
    "\n",
    "#   font = {'family' : 'normal',\n",
    "#           'size'   : 18}\n",
    "\n",
    "#   matplotlib.rc('font', **font)\n",
    "\n",
    "#   for t in range(0, len(cell_count_imagej_laptop)):\n",
    "#   #for t in range(0, 3):\n",
    "#       timepoints = range(0, len(cell_count_imagej_laptop[:t]))\n",
    "#       fig = plt.figure(figsize=(intended_figure_width / intended_dpi, intended_figure_height / intended_dpi), dpi=intended_dpi)\n",
    "#       plt.xlim(0, 300)\n",
    "#       plt.ylim(1500, 3500)\n",
    "    \n",
    "#       plt.plot(timepoints, cell_count_imagej[:t], 'o')\n",
    "#       plt.plot(timepoints, cell_count_clij[:t], '.')\n",
    "    \n",
    "#       plt.legend([\"ImageJ laptop\", \"CLIJ laptop\", \"ImageJ workstation\", \"CLIJ workstation\"], loc='lower left') #, \"CLIJ Workstation\"])\n",
    "#       plt.xlabel(\"Time point\")\n",
    "#       plt.ylabel(\"Spot count\")\n",
    "#       #plt.title(\"Spot count over time\")\n",
    "    \n",
    "#       number = \"00000\" + str(t);\n",
    "#       print(number[-5:])\n",
    "#       plt.savefig(\"../images/spotcount_overtime/spot_count_plot_\" + number[-5:] + \".png\")\n",
    "#       # plt.show()"
   ]
  }
 ],
 "metadata": {
  "kernelspec": {
   "argv": [
    "/usr/bin/python3",
    "-m",
    "ipykernel_launcher",
    "-f",
    "{connection_file}"
   ],
   "display_name": "Python 3",
   "env": null,
   "interrupt_mode": "signal",
   "language": "python",
   "metadata": null,
   "name": "python3"
  },
  "language_info": {
   "codemirror_mode": {
    "name": "ipython",
    "version": 3
   },
   "file_extension": ".py",
   "mimetype": "text/x-python",
   "name": "python",
   "nbconvert_exporter": "python",
   "pygments_lexer": "ipython3",
   "version": "3.7.3"
  },
  "name": "Analyse_differences.ipynb",
  "toc": {
   "base_numbering": 1,
   "nav_menu": null,
   "number_sections": false,
   "sideBar": false,
   "skip_h1_title": false,
   "title_cell": "Table of Contents",
   "title_sidebar": "Contents",
   "toc_cell": false,
   "toc_position": null,
   "toc_section_display": false,
   "toc_window_display": false
  }
 },
 "nbformat": 4,
 "nbformat_minor": 2
}
