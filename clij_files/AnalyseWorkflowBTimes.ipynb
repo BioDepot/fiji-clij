{
 "cells": [
  {
   "cell_type": "code",
   "execution_count": null,
   "metadata": {
    "collapsed": false
   },
   "outputs": [],
   "source": [
    "# configuration and imports\n",
    "\n",
    "data_folder = \"/data/benchmark/log/\"\n",
    "\n",
    "workflow = \"workflowB\"\n",
    "computerName = \"bwb\"\n",
    "\n",
    "import utils\n",
    "import matplotlib\n",
    "import matplotlib.pyplot as plt\n",
    "from scipy import stats\n",
    "import numpy as np\n",
    "import os\n",
    "import math\n",
    "\n",
    "font = {'family' : 'sans-serif',\n",
    "        'size'   : 20}\n",
    "\n",
    "matplotlib.rc('font', **font)\n",
    "\n",
    "os.makedirs(output_folder, exist_ok=True)"
   ]
  },
  {
   "cell_type": "code",
   "execution_count": null,
   "metadata": {
    "collapsed": false
   },
   "outputs": [],
   "source": [
    "# load data\n",
    "fulltime_clij = np.array(utils.read_all_measurements_from_file(data_folder + computerName + \"_\" + workflow + \"_fulltime_clij.csv\"))\n",
    "fulltime_imagej = np.array(utils.read_all_measurements_from_file(data_folder + computerName + \"_\" + workflow + \"_fulltime_imagej.csv\"))"
   ]
  },
  {
   "cell_type": "code",
   "execution_count": null,
   "metadata": {
    "collapsed": false
   },
   "outputs": [],
   "source": [
    "print(\"number of time measurements ImageJ: \" + str(len(fulltime_imagej)))\n",
    "print(\"number of time measurements CLIJ: \" + str(len(fulltime_clij)))"
   ]
  },
  {
   "cell_type": "code",
   "execution_count": null,
   "metadata": {
    "collapsed": false
   },
   "outputs": [],
   "source": [
    "# sum times for the whole timelapse\n",
    "sum_time_clij = np.sum(fulltime_clij)\n",
    "sum_time_imagej = np.sum(fulltime_imagej)\n",
    "\n",
    "print(\"Full time including I/O\")\n",
    "print(\"=======================\")\n",
    "print(\"time to process all imges\\n\")\n",
    "\n",
    "print(\"Time imagej: \" + str(sum_time_imagej / 1000 / 60) + \" min\")\n",
    "print(\"Time clij: \" + str(sum_time_clij / 1000 / 60) + \" min\")\n",
    "\n",
    "print (\"Factor imagej to clij: \" + str(sum_time_imagej / sum_time_clij ))"
   ]
  },
  {
   "cell_type": "code",
   "execution_count": null,
   "metadata": {
    "collapsed": false
   },
   "outputs": [],
   "source": [
    "# average processing times without I/O\n",
    "time_clij   = np.array(utils.read_measurements_from_file(data_folder + computerName + \"_\" + workflow + \"_time_clij.csv\"))\n",
    "time_imagej = np.array(utils.read_measurements_from_file(data_folder + computerName + \"_\" + workflow + \"_time_imagej.csv\"))\n",
    "\n",
    "avg_time_clij   = np.mean(time_clij)\n",
    "avg_time_imagej = np.mean(time_imagej)\n",
    "\n",
    "print(\"Time excluding I/O\")\n",
    "print(\"==================\")\n",
    "print(\"time to process a single image\\n\")\n",
    "\n",
    "print(\"Time imagej: \" + str(avg_time_imagej / 1000) + \" sec\")\n",
    "print(\"Time clij: \" + str(avg_time_clij / 1000) + \" sec\")\n",
    "\n",
    "print (\"Factor imagej to clij: \" + str(avg_time_imagej / avg_time_clij ))\n"
   ]
  },
  {
   "cell_type": "code",
   "execution_count": null,
   "metadata": {
    "collapsed": false
   },
   "outputs": [],
   "source": [
    "# Common histogram parameters\n",
    "FIG_SIZE = (10, 8)\n",
    "DPI = 120\n",
    "BIN_WIDTH = 0.125 # 125ms, or 1/8 of a second\n",
    "X_TICKS = range(0, 12)\n",
    "Y_TICKS = range(0, 350, 50)"
   ]
  },
  {
   "cell_type": "code",
   "execution_count": null,
   "metadata": {
    "collapsed": false
   },
   "outputs": [],
   "source": [
    "# plot distribution of full runtimes (including I/O)\n",
    "plt.figure(figsize=FIG_SIZE, dpi=DPI)\n",
    "fulltime_imagej_secs = fulltime_imagej / 1000\n",
    "fulltime_clij_secs = fulltime_clij / 1000\n",
    "\n",
    "# Get mean for each set\n",
    "mean_full_imagej = np.mean(fulltime_imagej_secs)\n",
    "mean_full_clij = np.mean(fulltime_clij_secs)\n",
    "\n",
    "# Generate bins for histogram of constant width between data min and max\n",
    "min_bin_full = min(np.min(fulltime_imagej_secs), np.min(fulltime_clij_secs))\n",
    "max_bin_full = max(np.max(fulltime_imagej_secs), np.max(fulltime_clij_secs))\n",
    "bins_full = np.arange(min_bin_full, max_bin_full, BIN_WIDTH)\n",
    "\n",
    "# Draw histogram \n",
    "plt.hist(fulltime_imagej_secs, bins_full, alpha=0.5, color='r', label=\"ImageJ\")\n",
    "plt.hist(fulltime_clij_secs, bins_full, alpha=0.5, color='g', label=\"CLIJ\")\n",
    "\n",
    "plt.axvline(mean_full_imagej, color = 'r', linestyle = 'dashed', linewidth = 2)\n",
    "plt.axvline(mean_full_clij, color = 'g', linestyle = 'dashed', linewidth = 2)\n",
    "plt.legend([\"ImageJ mean\", \"CLIJ mean\", \"ImageJ\", \"CLIJ\"], loc='upper center')\n",
    "plt.xticks(X_TICKS)\n",
    "plt.yticks(Y_TICKS)\n",
    "plt.xlabel(\"Execution Time (seconds)\")\n",
    "plt.ylabel(\"Number of images\")\n",
    "plt.title(\"Distribution of full runtime (including I/O)\")\n",
    "plt.savefig(output_folder + \"fulltime_hist.png\")\n",
    "plt.show()"
   ]
  },
  {
   "cell_type": "code",
   "execution_count": null,
   "metadata": {
    "collapsed": false,
    "scrolled": false
   },
   "outputs": [],
   "source": [
    "# plot distribution of runtimes (excluding I/O)\n",
    "plt.figure(figsize=FIG_SIZE, dpi=DPI)\n",
    "time_imagej_secs = time_imagej / 1000\n",
    "time_clij_secs = time_clij / 1000\n",
    "\n",
    "# Get mean for each set\n",
    "mean_imagej = np.mean(time_imagej_secs)\n",
    "mean_clij = np.mean(time_clij_secs)\n",
    "\n",
    "# Generate bins for histogram of constant width between data min and max\n",
    "min_bin = min(np.min(time_imagej_secs), np.min(time_clij_secs))\n",
    "max_bin = max(np.max(time_imagej_secs), np.max(time_clij_secs))\n",
    "bins = np.arange(min_bin, max_bin, BIN_WIDTH)\n",
    "\n",
    "# Draw histogram \n",
    "plt.hist(time_imagej_secs, bins, alpha=0.5, color='r', label=\"ImageJ\")\n",
    "plt.hist(time_clij_secs, bins, alpha=0.5, color='g', label=\"CLIJ\")\n",
    "\n",
    "plt.axvline(mean_imagej, color = 'r', linestyle = 'dashed', linewidth = 2)\n",
    "plt.axvline(mean_clij, color = 'g', linestyle = 'dashed', linewidth = 2)\n",
    "plt.legend([\"ImageJ mean\", \"CLIJ mean\", \"ImageJ\", \"CLIJ\"], loc='upper center')\n",
    "plt.xticks(X_TICKS)\n",
    "plt.yticks(Y_TICKS)\n",
    "plt.xlabel(\"Execution Time (seconds)\")\n",
    "plt.ylabel(\"Number of images\")\n",
    "plt.title(\"Distribution of runtime (excluding I/O)\")\n",
    "plt.savefig(output_folder + \"time_hist.png\")\n",
    "plt.show()"
   ]
  }
 ],
 "metadata": {
  "kernelspec": {
   "argv": [
    "/usr/bin/python3",
    "-m",
    "ipykernel_launcher",
    "-f",
    "{connection_file}"
   ],
   "display_name": "Python 3",
   "env": null,
   "interrupt_mode": "signal",
   "language": "python",
   "metadata": null,
   "name": "python3"
  },
  "name": "AnalyseWorkflowBTimes.ipynb",
  "toc": {
   "base_numbering": 1,
   "nav_menu": null,
   "number_sections": false,
   "sideBar": false,
   "skip_h1_title": false,
   "title_cell": "Table of Contents",
   "title_sidebar": "Contents",
   "toc_cell": false,
   "toc_position": null,
   "toc_section_display": false,
   "toc_window_display": false
  }
 },
 "nbformat": 4,
 "nbformat_minor": 2
}
