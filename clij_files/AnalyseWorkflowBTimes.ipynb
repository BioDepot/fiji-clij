{
 "cells": [
  {
   "cell_type": "code",
   "execution_count": null,
   "metadata": {
    "collapsed": false
   },
   "outputs": [],
   "source": [
    "# configuration and imports\n",
    "\n",
    "data_folder = \"/data/benchmark/log/\"\n",
    "\n",
    "workflow = \"workflowB\"\n",
    "computerName = \"bwb\"\n",
    "\n",
    "import utils\n",
    "import matplotlib\n",
    "import matplotlib.pyplot as plt\n",
    "from scipy import stats\n",
    "import numpy as np\n",
    "\n",
    "font = {'family' : 'normal',\n",
    "        'size'   : 22}\n",
    "\n",
    "matplotlib.rc('font', **font)"
   ]
  },
  {
   "cell_type": "code",
   "execution_count": null,
   "metadata": {
    "collapsed": false
   },
   "outputs": [],
   "source": [
    "# load data\n",
    "fulltime_clij =    utils.read_all_measurements_from_file(data_folder + computerName + \"_\" + workflow + \"_fulltime_clij.csv\")\n",
    "fulltime_imagej = utils.read_all_measurements_from_file(data_folder + computerName + \"_\" + workflow + \"_fulltime_imagej.csv\")"
   ]
  },
  {
   "cell_type": "code",
   "execution_count": null,
   "metadata": {
    "collapsed": false
   },
   "outputs": [],
   "source": [
    "print(\"number of time measurements ImageJ: \" + str(len(fulltime_imagej)))\n",
    "print(\"number of time measurements CLIJ: \" + str(len(fulltime_clij)))"
   ]
  },
  {
   "cell_type": "code",
   "execution_count": null,
   "metadata": {
    "collapsed": false
   },
   "outputs": [],
   "source": [
    "# sum times for the whole timelapse\n",
    "sum_time_clij = np.sum(fulltime_clij)\n",
    "sum_time_imagej = np.sum(fulltime_imagej)\n",
    "\n",
    "print(\"Full time including I/O\")\n",
    "print(\"=======================\")\n",
    "print(\"time to process all imges\\n\")\n",
    "\n",
    "print(\"Time imagej: \" + str(sum_time_imagej / 1000 / 60) + \" min\")\n",
    "print(\"Time clij: \" + str(sum_time_clij / 1000 / 60) + \" min\")\n",
    "\n",
    "print (\"Factor imagej to clij: \" + str(sum_time_imagej / sum_time_clij ))"
   ]
  },
  {
   "cell_type": "code",
   "execution_count": null,
   "metadata": {
    "collapsed": false
   },
   "outputs": [],
   "source": [
    "# average processing times without I/O\n",
    "time_clij   = utils.read_measurements_from_file(data_folder + computerName + \"_\" + workflow + \"_time_clij.csv\")\n",
    "time_imagej = utils.read_measurements_from_file(data_folder + computerName + \"_\" + workflow + \"_time_imagej.csv\")\n",
    "\n",
    "avg_time_clij   = np.mean(time_clij)\n",
    "avg_time_imagej = np.mean(time_imagej)\n",
    "\n",
    "print(\"Time excluding I/O\")\n",
    "print(\"==================\")\n",
    "print(\"time to process a single image\\n\")\n",
    "\n",
    "print(\"Time imagej: \" + str(avg_time_imagej / 1000) + \" sec\")\n",
    "print(\"Time clij: \" + str(avg_time_clij / 1000) + \" sec\")\n",
    "\n",
    "print (\"Factor imagej to clij: \" + str(avg_time_imagej / avg_time_clij ))\n"
   ]
  },
  {
   "cell_type": "code",
   "execution_count": null,
   "metadata": {
    "collapsed": false
   },
   "outputs": [],
   "source": []
  }
 ],
 "metadata": {
  "kernelspec": {
   "argv": [
    "/usr/bin/python3",
    "-m",
    "ipykernel_launcher",
    "-f",
    "{connection_file}"
   ],
   "display_name": "Python 3",
   "env": null,
   "interrupt_mode": "signal",
   "language": "python",
   "metadata": null,
   "name": "python3"
  },
  "name": "AnalyseWorkflowBTimes.ipynb",
  "toc": {
   "base_numbering": 1,
   "nav_menu": null,
   "number_sections": false,
   "sideBar": false,
   "skip_h1_title": false,
   "title_cell": "Table of Contents",
   "title_sidebar": "Contents",
   "toc_cell": false,
   "toc_position": null,
   "toc_section_display": false,
   "toc_window_display": false
  }
 },
 "nbformat": 4,
 "nbformat_minor": 2
}
